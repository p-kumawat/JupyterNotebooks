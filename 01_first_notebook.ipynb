{
 "cells": [
  {
   "cell_type": "markdown",
   "id": "8fdf7a65",
   "metadata": {},
   "source": [
    "# Introduction\n",
    "This is my *first* Jupyter notebook"
   ]
  },
  {
   "cell_type": "code",
   "execution_count": 1,
   "id": "28b89d89",
   "metadata": {},
   "outputs": [],
   "source": [
    "x = 5\n",
    "y = 6\n",
    "z = x + y"
   ]
  },
  {
   "cell_type": "code",
   "execution_count": 3,
   "id": "035e24c8",
   "metadata": {},
   "outputs": [
    {
     "name": "stdout",
     "output_type": "stream",
     "text": [
      "z=11\n"
     ]
    }
   ],
   "source": [
    "print(f\"z={z}\")"
   ]
  },
  {
   "cell_type": "code",
   "execution_count": null,
   "id": "78d6a0cb",
   "metadata": {},
   "outputs": [],
   "source": []
  }
 ],
 "metadata": {
  "kernelspec": {
   "display_name": "Python 3",
   "language": "python",
   "name": "python3"
  },
  "language_info": {
   "codemirror_mode": {
    "name": "ipython",
    "version": 3
   },
   "file_extension": ".py",
   "mimetype": "text/x-python",
   "name": "python",
   "nbconvert_exporter": "python",
   "pygments_lexer": "ipython3",
   "version": "3.8.8"
  }
 },
 "nbformat": 4,
 "nbformat_minor": 5
}
